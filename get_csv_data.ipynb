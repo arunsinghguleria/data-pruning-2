{
 "cells": [
  {
   "cell_type": "code",
   "execution_count": null,
   "metadata": {},
   "outputs": [],
   "source": []
  },
  {
   "cell_type": "code",
   "execution_count": 10,
   "metadata": {},
   "outputs": [],
   "source": [
    "import torch"
   ]
  },
  {
   "cell_type": "code",
   "execution_count": 14,
   "metadata": {},
   "outputs": [
    {
     "name": "stdout",
     "output_type": "stream",
     "text": [
      "tensor([0, 0, 0, 0, 0, 1, 0, 0, 0, 0])\n"
     ]
    }
   ],
   "source": [
    "num_class = 10\n",
    "label = 5\n",
    "label = torch.nn.functional.one_hot(torch.tensor(label), num_classes=num_class)\n",
    "print(label)\n"
   ]
  },
  {
   "cell_type": "code",
   "execution_count": null,
   "metadata": {},
   "outputs": [
    {
     "name": "stdout",
     "output_type": "stream",
     "text": [
      "Collecting box\n",
      "  Downloading box-0.1.5-py3-none-any.whl.metadata (1.6 kB)\n",
      "Collecting aiohttp>=3.8.1 (from box)\n",
      "  Downloading aiohttp-3.11.13-cp312-cp312-manylinux_2_17_x86_64.manylinux2014_x86_64.whl.metadata (7.7 kB)\n",
      "Collecting columnar==1.3.1 (from box)\n",
      "  Downloading Columnar-1.3.1-py3-none-any.whl.metadata (11 kB)\n",
      "Collecting executing==0.8.2 (from box)\n",
      "  Downloading executing-0.8.2-py2.py3-none-any.whl.metadata (8.4 kB)\n",
      "Collecting loguru (from box)\n",
      "  Downloading loguru-0.7.3-py3-none-any.whl.metadata (22 kB)\n",
      "Collecting python-dateutil==2.8.2 (from box)\n",
      "  Downloading python_dateutil-2.8.2-py2.py3-none-any.whl.metadata (8.2 kB)\n",
      "Collecting timeago==1.0.14 (from box)\n",
      "  Downloading timeago-1.0.14.tar.gz (24 kB)\n",
      "  Preparing metadata (setup.py) ... \u001b[?25ldone\n",
      "\u001b[?25hCollecting pysqlite3-binary (from box)\n",
      "  Downloading pysqlite3_binary-0.5.4-cp312-cp312-manylinux_2_17_x86_64.manylinux2014_x86_64.whl.metadata (766 bytes)\n",
      "Collecting toolz (from columnar==1.3.1->box)\n",
      "  Using cached toolz-1.0.0-py3-none-any.whl.metadata (5.1 kB)\n",
      "Requirement already satisfied: wcwidth in /data/home1/arunsg/miniconda3/envs/InfoBatch/lib/python3.12/site-packages (from columnar==1.3.1->box) (0.2.13)\n",
      "Requirement already satisfied: six>=1.5 in /data/home1/arunsg/miniconda3/envs/InfoBatch/lib/python3.12/site-packages (from python-dateutil==2.8.2->box) (1.16.0)\n",
      "Collecting aiohappyeyeballs>=2.3.0 (from aiohttp>=3.8.1->box)\n",
      "  Downloading aiohappyeyeballs-2.6.1-py3-none-any.whl.metadata (5.9 kB)\n",
      "Collecting aiosignal>=1.1.2 (from aiohttp>=3.8.1->box)\n",
      "  Using cached aiosignal-1.3.2-py2.py3-none-any.whl.metadata (3.8 kB)\n",
      "Requirement already satisfied: attrs>=17.3.0 in /data/home1/arunsg/miniconda3/envs/InfoBatch/lib/python3.12/site-packages (from aiohttp>=3.8.1->box) (24.2.0)\n",
      "Collecting frozenlist>=1.1.1 (from aiohttp>=3.8.1->box)\n",
      "  Using cached frozenlist-1.5.0-cp312-cp312-manylinux_2_5_x86_64.manylinux1_x86_64.manylinux_2_17_x86_64.manylinux2014_x86_64.whl.metadata (13 kB)\n",
      "Collecting multidict<7.0,>=4.5 (from aiohttp>=3.8.1->box)\n",
      "  Using cached multidict-6.1.0-cp312-cp312-manylinux_2_17_x86_64.manylinux2014_x86_64.whl.metadata (5.0 kB)\n",
      "Collecting propcache>=0.2.0 (from aiohttp>=3.8.1->box)\n",
      "  Downloading propcache-0.3.0-cp312-cp312-manylinux_2_17_x86_64.manylinux2014_x86_64.whl.metadata (10 kB)\n",
      "Collecting yarl<2.0,>=1.17.0 (from aiohttp>=3.8.1->box)\n",
      "  Using cached yarl-1.18.3-cp312-cp312-manylinux_2_17_x86_64.manylinux2014_x86_64.whl.metadata (69 kB)\n",
      "Requirement already satisfied: idna>=2.0 in /data/home1/arunsg/miniconda3/envs/InfoBatch/lib/python3.12/site-packages (from yarl<2.0,>=1.17.0->aiohttp>=3.8.1->box) (3.10)\n",
      "Downloading box-0.1.5-py3-none-any.whl (162 kB)\n",
      "Downloading Columnar-1.3.1-py3-none-any.whl (11 kB)\n",
      "Downloading executing-0.8.2-py2.py3-none-any.whl (16 kB)\n",
      "Downloading python_dateutil-2.8.2-py2.py3-none-any.whl (247 kB)\n",
      "Downloading aiohttp-3.11.13-cp312-cp312-manylinux_2_17_x86_64.manylinux2014_x86_64.whl (1.7 MB)\n",
      "\u001b[2K   \u001b[90m━━━━━━━━━━━━━━━━━━━━━━━━━━━━━━━━━━━━━━━━\u001b[0m \u001b[32m1.7/1.7 MB\u001b[0m \u001b[31m2.3 MB/s\u001b[0m eta \u001b[36m0:00:00\u001b[0ma \u001b[36m0:00:01\u001b[0m\n",
      "\u001b[?25hDownloading loguru-0.7.3-py3-none-any.whl (61 kB)\n",
      "Downloading pysqlite3_binary-0.5.4-cp312-cp312-manylinux_2_17_x86_64.manylinux2014_x86_64.whl (5.2 MB)\n",
      "\u001b[2K   \u001b[90m━━━━━━━━━━━━━━━━━━━━━━━━━━━━━━━━━━━━━━━━\u001b[0m \u001b[32m5.2/5.2 MB\u001b[0m \u001b[31m4.1 MB/s\u001b[0m eta \u001b[36m0:00:00\u001b[0ma \u001b[36m0:00:01\u001b[0m\n",
      "\u001b[?25hDownloading aiohappyeyeballs-2.6.1-py3-none-any.whl (15 kB)\n",
      "Using cached aiosignal-1.3.2-py2.py3-none-any.whl (7.6 kB)\n",
      "Using cached frozenlist-1.5.0-cp312-cp312-manylinux_2_5_x86_64.manylinux1_x86_64.manylinux_2_17_x86_64.manylinux2014_x86_64.whl (283 kB)\n",
      "Using cached multidict-6.1.0-cp312-cp312-manylinux_2_17_x86_64.manylinux2014_x86_64.whl (131 kB)\n",
      "Downloading propcache-0.3.0-cp312-cp312-manylinux_2_17_x86_64.manylinux2014_x86_64.whl (243 kB)\n",
      "Using cached yarl-1.18.3-cp312-cp312-manylinux_2_17_x86_64.manylinux2014_x86_64.whl (336 kB)\n",
      "Using cached toolz-1.0.0-py3-none-any.whl (56 kB)\n",
      "Building wheels for collected packages: timeago\n",
      "  Building wheel for timeago (setup.py) ... \u001b[?25ldone\n",
      "\u001b[?25h  Created wheel for timeago: filename=timeago-1.0.14-py3-none-any.whl size=26438 sha256=3e8e014c085c70c219ea2fceb79ec3add162023c6787e34ffe704bbd48c9778b\n",
      "  Stored in directory: /data/home1/arunsg/.cache/pip/wheels/4e/e0/26/558f81a666781177210762e365b3b5679602c9670618326f24\n",
      "Successfully built timeago\n",
      "Installing collected packages: timeago, pysqlite3-binary, executing, toolz, python-dateutil, propcache, multidict, loguru, frozenlist, aiohappyeyeballs, yarl, columnar, aiosignal, aiohttp, box\n",
      "  Attempting uninstall: executing\n",
      "    Found existing installation: executing 2.1.0\n",
      "    Uninstalling executing-2.1.0:\n",
      "      Successfully uninstalled executing-2.1.0\n",
      "  Attempting uninstall: python-dateutil\n",
      "    Found existing installation: python-dateutil 2.9.0.post0\n",
      "    Uninstalling python-dateutil-2.9.0.post0:\n",
      "      Successfully uninstalled python-dateutil-2.9.0.post0\n",
      "\u001b[31mERROR: pip's dependency resolver does not currently take into account all the packages that are installed. This behaviour is the source of the following dependency conflicts.\n",
      "stack-data 0.6.3 requires executing>=1.2.0, but you have executing 0.8.2 which is incompatible.\u001b[0m\u001b[31m\n",
      "\u001b[0mSuccessfully installed aiohappyeyeballs-2.6.1 aiohttp-3.11.13 aiosignal-1.3.2 box-0.1.5 columnar-1.3.1 executing-0.8.2 frozenlist-1.5.0 loguru-0.7.3 multidict-6.1.0 propcache-0.3.0 pysqlite3-binary-0.5.4 python-dateutil-2.8.2 timeago-1.0.14 toolz-1.0.0 yarl-1.18.3\n"
     ]
    }
   ],
   "source": []
  },
  {
   "cell_type": "code",
   "execution_count": null,
   "metadata": {},
   "outputs": [],
   "source": []
  },
  {
   "cell_type": "code",
   "execution_count": null,
   "metadata": {},
   "outputs": [],
   "source": []
  },
  {
   "cell_type": "code",
   "execution_count": null,
   "metadata": {},
   "outputs": [],
   "source": []
  },
  {
   "cell_type": "code",
   "execution_count": 33,
   "metadata": {},
   "outputs": [],
   "source": [
    "import pandas as pd"
   ]
  },
  {
   "cell_type": "code",
   "execution_count": 34,
   "metadata": {},
   "outputs": [
    {
     "name": "stdout",
     "output_type": "stream",
     "text": [
      "/data/home1/arunsg/gitproject/data-pruning-3/data-pruning-3/results/cifar_experiment_results/LT/80cifar_EL2N_score_30.csv_.csv\n",
      "/data/home1/arunsg/gitproject/data-pruning-3/data-pruning-3/results/cifar_experiment_results/LT/81cifar_EL2N_score_30.csv_.csv\n",
      "/data/home1/arunsg/gitproject/data-pruning-3/data-pruning-3/results/cifar_experiment_results/LT/82cifar_EL2N_score_30.csv_.csv\n",
      "/data/home1/arunsg/gitproject/data-pruning-3/data-pruning-3/results/cifar_experiment_results/LT/83cifar_EL2N_score_30.csv_.csv\n",
      "/data/home1/arunsg/gitproject/data-pruning-3/data-pruning-3/results/cifar_experiment_results/LT/84cifar_EL2N_score_30.csv_.csv\n",
      "/data/home1/arunsg/gitproject/data-pruning-3/data-pruning-3/results/cifar_experiment_results/LT/85cifar_EL2N_score_30.csv_.csv\n",
      "/data/home1/arunsg/gitproject/data-pruning-3/data-pruning-3/results/cifar_experiment_results/LT/86cifar_EL2N_score_30.csv_.csv\n",
      "/data/home1/arunsg/gitproject/data-pruning-3/data-pruning-3/results/cifar_experiment_results/LT/87cifar_EL2N_score_30.csv_.csv\n",
      "/data/home1/arunsg/gitproject/data-pruning-3/data-pruning-3/results/cifar_experiment_results/LT/88cifar_EL2N_score_30.csv_.csv\n",
      "/data/home1/arunsg/gitproject/data-pruning-3/data-pruning-3/results/cifar_experiment_results/LT/89cifar_EL2N_score_30.csv_.csv\n"
     ]
    }
   ],
   "source": [
    "li = []\n",
    "for i in range(10):\n",
    "    # file_name = f'/data/home1/arunsg/gitproject/data-pruning-3/data-pruning-3/results/cifar_experiment_results/LT/7{i}cifar_GraNd_score_30.csv_.csv'\n",
    "    # file_name = f'/data/home1/arunsg/gitproject/data-pruning-3/data-pruning-3/results/cifar_experiment_results/LT/6{i}cifar.csv'\n",
    "    # file_name = f'/data/home1/arunsg/gitproject/data-pruning-3/data-pruning-3/results/cifar_experiment_results/cifar-full-{i}0percent_GraNd_score_30.csv_.csv'\n",
    "    file_name = f'/data/home1/arunsg/gitproject/data-pruning-3/data-pruning-3/results/cifar_experiment_results/LT/8{i}cifar_EL2N_score_30.csv_.csv'\n",
    "    print(file_name)\n",
    "    df = pd.read_csv(file_name)\n",
    "    \n",
    "    d = {\n",
    "    'exp_name':'GraNd30_series_.csv',\n",
    "    'prune_ratio':df.iloc[99]['prune_ratio'],\n",
    "    'head_acc':df.iloc[99]['test_head_acc'],\n",
    "    'med_acc':df.iloc[99]['test_medium_acc'],\n",
    "    'tail_acc':df.iloc[99]['test_tail_acc'],\n",
    "    'total_acc':df.iloc[99]['test_total_acc']\n",
    "    }\n",
    "    li.append(d)\n",
    "    # print(d)\n",
    "\n"
   ]
  },
  {
   "cell_type": "code",
   "execution_count": 35,
   "metadata": {},
   "outputs": [],
   "source": [
    "df = pd.DataFrame(li)"
   ]
  },
  {
   "cell_type": "code",
   "execution_count": 36,
   "metadata": {},
   "outputs": [],
   "source": [
    "df.shape\n",
    "# df.to_csv('data60.csv')\n",
    "# df.to_csv('data70.csv')\n",
    "df.to_csv('data80.csv')\n",
    "# df.to_csv('data-full.csv')"
   ]
  },
  {
   "cell_type": "code",
   "execution_count": 6,
   "metadata": {},
   "outputs": [
    {
     "data": {
      "text/html": [
       "<div>\n",
       "<style scoped>\n",
       "    .dataframe tbody tr th:only-of-type {\n",
       "        vertical-align: middle;\n",
       "    }\n",
       "\n",
       "    .dataframe tbody tr th {\n",
       "        vertical-align: top;\n",
       "    }\n",
       "\n",
       "    .dataframe thead th {\n",
       "        text-align: right;\n",
       "    }\n",
       "</style>\n",
       "<table border=\"1\" class=\"dataframe\">\n",
       "  <thead>\n",
       "    <tr style=\"text-align: right;\">\n",
       "      <th></th>\n",
       "      <th>exp_name</th>\n",
       "      <th>prune_ratio</th>\n",
       "      <th>head_acc</th>\n",
       "      <th>med_acc</th>\n",
       "      <th>tail_acc</th>\n",
       "      <th>total_acc</th>\n",
       "    </tr>\n",
       "  </thead>\n",
       "  <tbody>\n",
       "    <tr>\n",
       "      <th>0</th>\n",
       "      <td>GraNd70_series_.csv</td>\n",
       "      <td>0-0-0-0-0-0-0-0-0-0</td>\n",
       "      <td>0.857667</td>\n",
       "      <td>0.6254</td>\n",
       "      <td>0.4135</td>\n",
       "      <td>0.6527</td>\n",
       "    </tr>\n",
       "    <tr>\n",
       "      <th>1</th>\n",
       "      <td>GraNd70_series_.csv</td>\n",
       "      <td>0.1-0.1-0.1-0-0-0-0-0-0-0</td>\n",
       "      <td>0.859333</td>\n",
       "      <td>0.6286</td>\n",
       "      <td>0.4315</td>\n",
       "      <td>0.6584</td>\n",
       "    </tr>\n",
       "  </tbody>\n",
       "</table>\n",
       "</div>"
      ],
      "text/plain": [
       "              exp_name                prune_ratio  head_acc  med_acc  \\\n",
       "0  GraNd70_series_.csv        0-0-0-0-0-0-0-0-0-0  0.857667   0.6254   \n",
       "1  GraNd70_series_.csv  0.1-0.1-0.1-0-0-0-0-0-0-0  0.859333   0.6286   \n",
       "\n",
       "   tail_acc  total_acc  \n",
       "0    0.4135     0.6527  \n",
       "1    0.4315     0.6584  "
      ]
     },
     "execution_count": 6,
     "metadata": {},
     "output_type": "execute_result"
    }
   ],
   "source": [
    "df"
   ]
  },
  {
   "cell_type": "code",
   "execution_count": null,
   "metadata": {},
   "outputs": [],
   "source": [
    "df.iloc[99]\n",
    "d = {\n",
    "    'exp_name':'cifar_EL2N_score_30.csv',\n",
    "    'prune_ratio':float(df.iloc[99]['prune_ratio']),\n",
    "    'head_acc':float(df.iloc[99]['test_head_acc']),\n",
    "    'med_acc':float(df.iloc[99]['test_medium_acc']),\n",
    "    'tail_acc':float(df.iloc[99]['test_tail_acc']),\n",
    "    'total_acc':float(df.iloc[99]['test_total_acc'])\n",
    "}"
   ]
  }
 ],
 "metadata": {
  "kernelspec": {
   "display_name": "InfoBatch",
   "language": "python",
   "name": "python3"
  },
  "language_info": {
   "codemirror_mode": {
    "name": "ipython",
    "version": 3
   },
   "file_extension": ".py",
   "mimetype": "text/x-python",
   "name": "python",
   "nbconvert_exporter": "python",
   "pygments_lexer": "ipython3",
   "version": "3.12.4"
  }
 },
 "nbformat": 4,
 "nbformat_minor": 2
}
